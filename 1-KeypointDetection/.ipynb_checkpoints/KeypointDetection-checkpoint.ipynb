{
 "cells": [
  {
   "cell_type": "code",
   "execution_count": 8,
   "metadata": {
    "collapsed": true
   },
   "outputs": [],
   "source": [
    "from PIL import Image\n",
    "import numpy as np\n",
    "from matplotlib import pyplot as plt\n",
    "from scipy.ndimage import filters\n",
    "import scipy.misc\n",
    "import time"
   ]
  },
  {
   "cell_type": "code",
   "execution_count": 9,
   "metadata": {
    "collapsed": true
   },
   "outputs": [],
   "source": [
    "import os\n",
    "import ipyparallel as ipp\n",
    "\n",
    "rc = ipp.Client()\n",
    "ar = rc[:].apply_async(os.getpid)\n",
    "pid_map = ar.get_dict()"
   ]
  },
  {
   "cell_type": "code",
   "execution_count": 10,
   "metadata": {
    "collapsed": true
   },
   "outputs": [],
   "source": [
    "class ProcessImage:\n",
    "    \n",
    "    k = np.sqrt(2)  # Gaussian blur factor\n",
    "    constFactor = np.sqrt(k**2 - 1)\n",
    "    sigma = 1.6\n",
    "    s = 5           # number of images per octave\n",
    "    numOctave = 4   # number of octaves\n",
    "    \n",
    "    def __init__(self, arr):\n",
    "        \"\"\"Constructor: pass an array\"\"\"\n",
    "        self.imgArr = np.array(arr)\n",
    "    \n",
    "    def plot(self, ti=\"\"):\n",
    "        plt.imshow(self.imgArr, cmap='Greys_r')\n",
    "        plt.title(ti)\n",
    "    \n",
    "    def saveCurrentIm(self, saveName):\n",
    "        self.imgArr.save(saveName)\n",
    "        \n",
    "    def getSize(self):\n",
    "        return self.imgArr.shape\n",
    "        \n",
    "    def gaussianBlur(self, sig):\n",
    "        # sig is the standard deviation of the gaussian kernel\n",
    "        return filters.gaussian_filter(self.imgArr, sig)\n",
    "\n",
    "    def halfSize(self):\n",
    "        \"\"\"Take every second pixels in both rows and columns.\"\"\"\n",
    "        return self.imgArr[::2, ::2]\n",
    "    \n",
    "    def doubleImage(self):\n",
    "        \"\"\"Use linear interpolation on all pixels for preprocessing original image,\n",
    "           preventing from discarding useful information.\n",
    "           Input: an image array. \"\"\"\n",
    "        \n",
    "        m, n = self.imgArr.shape\n",
    "        XX = np.zeros((2*m-1,2*n-1))\n",
    "        # fill X in every second pixel in XX\n",
    "        for i in range(m):\n",
    "            for j in range(n):\n",
    "                XX[2*i,2*j] = self.imgArr[i,j]\n",
    "\n",
    "        # then take the mean\n",
    "        for i in range(1, 2*m-1, 2):\n",
    "            XX[i,:] = (XX[i-1,:] + XX[i+1,:]) / 2.\n",
    "        for j in range(1, 2*n-1, 2):\n",
    "            XX[:,j] = (XX[:,j-1] + XX[:,j+1]) / 2.\n",
    "        return XX"
   ]
  },
  {
   "cell_type": "code",
   "execution_count": 11,
   "metadata": {
    "collapsed": true
   },
   "outputs": [],
   "source": [
    "class KeypointDetection(ProcessImage):   # inherited from ProcessImage\n",
    "    \n",
    "    def __init__(self, imName):\n",
    "        self.imName = imName;\n",
    "        self.DoG = []\n",
    "        self.extrema = []\n",
    "        self.im = self.preprocessing()\n",
    "        self.findKeypoints()\n",
    "        \n",
    "    def preprocessing(self):\n",
    "        origin = np.array(Image.open(self.imName).convert('L'))\n",
    "        im_pre = ProcessImage(origin)\n",
    "        im_pre = ProcessImage(im_pre.gaussianBlur(0.5));    # initial blur at least sigma = 0.5\n",
    "        return ProcessImage(im_pre.doubleImage())\n",
    "        \n",
    "        \n",
    "        \n",
    "    def scaleSpace(self,showPlot=False):\n",
    "        \"\"\"Computes all scale spaces in all octaves.\"\"\"\n",
    "\n",
    "        # creating a list with all gaussian blur images with original resolution\n",
    "        scaleList = []\n",
    "        # octave 1: \\sigma --> k^4\\sigma\n",
    "        for i in range(ProcessImage.s):\n",
    "            newArr = self.im.gaussianBlur(ProcessImage.sigma * ProcessImage.k**i)\n",
    "            scaleList.append(ProcessImage(newArr))\n",
    "\n",
    "        \"\"\"  octave 2:  k^2\\sigma --> k^6*\\sigma, 1/2 size\n",
    "             octave 3:  k^4\\sigma --> k^8*\\sigma, 1/4 size\n",
    "             octave 4:  k^6\\sigma --> k^10*\\sigma, 1/8 size \"\"\"\n",
    "        factor = 4\n",
    "        for j in range(3):\n",
    "            for i in range(3):\n",
    "                scaleList.append(ProcessImage(scaleList[-3].halfSize()))       # the image to halfSize is always at index -3\n",
    "            for i in range(factor, factor+2):\n",
    "                newSig = ProcessImage.k**i * ProcessImage.constFactor * ProcessImage.sigma\n",
    "                newArr = scaleList[-1].gaussianBlur(newSig)\n",
    "                scaleList.append(ProcessImage(newArr))\n",
    "            factor += 2\n",
    "\n",
    "\n",
    "        # test for sizes\n",
    "        # print([scaleList[j].getSize() for j in range(len(scaleList))])\n",
    "\n",
    "        # plotting all octaves\n",
    "        if showPlot == True:\n",
    "            axarr = np.zeros((ProcessImage.numOctave, ProcessImage.s))\n",
    "            for row in range(ProcessImage.numOctave):\n",
    "                fig, axarr = plt.subplots(1, ProcessImage.s, sharey=True)\n",
    "                plt.suptitle('Octave %d' % (row+1))\n",
    "                for col in range(len(scaleList[:ProcessImage.s])):\n",
    "                    axarr[col].imshow(scaleList[row*ProcessImage.s+col].imgArr, cmap='Greys_r')\n",
    "                    currSigma = ProcessImage.k ** (2*row+col) * ProcessImage.sigma\n",
    "                    axarr[col].set_title('$\\sigma = %0.4f$' % currSigma)\n",
    "            plt.show()\n",
    "\n",
    "        return scaleList\n",
    "    \n",
    "    \n",
    "    \n",
    "    def DoG_generator(self,scaleList):\n",
    "        \"\"\"Changing DoG as a list of numpy arrays.\"\"\"\n",
    "        for oc in range(ProcessImage.numOctave):\n",
    "            for i in range(ProcessImage.s - 1):\n",
    "                self.DoG.append(scaleList[i+1+oc*ProcessImage.s].imgArr - scaleList[i+oc*ProcessImage.s].imgArr)\n",
    "             \n",
    "            \n",
    "            \n",
    "    def localExtremaDetection(self):\n",
    "        \"\"\"Detect the local extrema of D(x,y,\\sigma).\"\"\"\n",
    "        for oc in range(ProcessImage.numOctave):\n",
    "            m, n = self.DoG[oc*(ProcessImage.s-1)].shape\n",
    "            for i in range(1,3):    # scale level number\n",
    "                for x in range(1,m):\n",
    "                    for y in range(1,n):\n",
    "                        # for a given sample point, compare it with 26 neighbors\n",
    "                        flag = True\n",
    "                        neighbors = np.array([self.DoG[j+oc*(ProcessImage.s-1)][x-1:x+2,y-1:y+2] for j in range(i-1,i+2)]).ravel()\n",
    "                        neighbors = np.delete(neighbors, len(neighbors)/2)\n",
    "                        sign = np.sign(neighbors[0] - self.DoG[i+oc*(ProcessImage.s-1)][x,y])\n",
    "                        for num in neighbors[1:]:\n",
    "                            if (np.sign(num - self.DoG[i+oc*(ProcessImage.s-1)][x,y]) != sign):\n",
    "                                flag = False\n",
    "                                break\n",
    "                        # if not stop b/c of break, (x,y) is an extrema\n",
    "                        if flag:\n",
    "                            # map the point by a multiplier for different scales\n",
    "                            self.extrema.append((2**oc*x, 2**oc*y))\n",
    "\n",
    "                            \n",
    "                            \n",
    "    def showKeypoints(self):\n",
    "        \"\"\"Input extrema is a list of pixel coordinates; im is a ProcessImage instance.\"\"\"\n",
    "        self.extrema = list(set(self.extrema))\n",
    "        self.extrema = np.asarray(self.extrema)\n",
    "        self.im.plot(\"Size: %dpx * %dpx, number of keypoints = %d\" % (self.im.getSize()[0], self.im.getSize()[1], len(self.extrema)))\n",
    "        plt.plot(self.extrema[:,1], self.extrema[:,0],'b.', label='keypoints')   # notice the order of indices\n",
    "        plt.legend(loc = 'upper left')\n",
    "        plt.show()\n",
    "        \n",
    "        \n",
    "        \n",
    "    def findKeypoints(self):\n",
    "        scaleList = self.scaleSpace(showPlot=False)\n",
    "        self.DoG_generator(scaleList)\n",
    "        \n",
    "        # detecting local extrema\n",
    "        t0 = time.clock()\n",
    "        extrema = self.localExtremaDetection()\n",
    "        print(\"Time spent detecting local extrema: %0.2f\" % (time.clock()-t0))\n",
    "\n",
    "        # plot keypoints on original graph\n",
    "        self.showKeypoints()"
   ]
  },
  {
   "cell_type": "code",
   "execution_count": 12,
   "metadata": {
    "collapsed": false
   },
   "outputs": [
    {
     "name": "stdout",
     "output_type": "stream",
     "text": [
      "Time spent detecting local extrema: 5.36\n"
     ]
    }
   ],
   "source": [
    "img = KeypointDetection('house.jpg')"
   ]
  },
  {
   "cell_type": "code",
   "execution_count": null,
   "metadata": {
    "collapsed": true
   },
   "outputs": [],
   "source": []
  }
 ],
 "metadata": {
  "kernelspec": {
   "display_name": "Python 2",
   "language": "python",
   "name": "python2"
  },
  "language_info": {
   "codemirror_mode": {
    "name": "ipython",
    "version": 2
   },
   "file_extension": ".py",
   "mimetype": "text/x-python",
   "name": "python",
   "nbconvert_exporter": "python",
   "pygments_lexer": "ipython2",
   "version": "2.7.9"
  }
 },
 "nbformat": 4,
 "nbformat_minor": 0
}
