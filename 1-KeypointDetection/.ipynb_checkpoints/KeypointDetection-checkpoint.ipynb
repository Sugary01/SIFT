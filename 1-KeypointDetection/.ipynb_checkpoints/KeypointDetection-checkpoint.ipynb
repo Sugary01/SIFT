{
 "cells": [
  {
   "cell_type": "code",
   "execution_count": 18,
   "metadata": {
    "collapsed": false
   },
   "outputs": [],
   "source": [
    "from PIL import Image\n",
    "import numpy as np\n",
    "from matplotlib import pyplot as plt\n",
    "from scipy.ndimage import filters\n",
    "import scipy.misc\n",
    "import time"
   ]
  },
  {
   "cell_type": "code",
   "execution_count": 105,
   "metadata": {
    "collapsed": false
   },
   "outputs": [],
   "source": [
    "class ProcessImage:\n",
    "    \n",
    "    k = np.sqrt(2)  # Gaussian blur factor\n",
    "    constFactor = np.sqrt(k**2 - 1)\n",
    "    sigma = 1.6\n",
    "    s = 5           # number of images per octave\n",
    "    numOctave = 4   # number of octaves\n",
    "    \n",
    "    def __init__(self, arr):\n",
    "        \"\"\"Constructor: pass an array\"\"\"\n",
    "        self.imgArr = np.array(arr)\n",
    "        self.imgOrigin = np.array(arr)   # store a copy of original image\n",
    "    \n",
    "    def plot(self, ti=\"\"):\n",
    "        plt.imshow(self.imgArr, cmap='Greys_r')\n",
    "        plt.title(ti)\n",
    "    \n",
    "    def saveIm(self, saveName):\n",
    "        self.imgOrigin.save(saveName)\n",
    "        \n",
    "    def getSize(self):\n",
    "        return self.imgArr.shape\n",
    "        \n",
    "    def gaussianBlur(self, sig):\n",
    "        # sig is the standard deviation of the gaussian kernel\n",
    "        return filters.gaussian_filter(self.imgArr, sig)\n",
    "\n",
    "    def halfSize(self):\n",
    "        \"\"\"Take every second pixels in both rows and columns.\"\"\"\n",
    "        return self.imgArr[::2, ::2]"
   ]
  },
  {
   "cell_type": "code",
   "execution_count": 106,
   "metadata": {
    "collapsed": true
   },
   "outputs": [],
   "source": [
    "def doubleImage(X):\n",
    "    \"\"\"Use linear interpolation on all pixels for preprocessing original image,\n",
    "       preventing from discarding useful information.\n",
    "       Input: an image array. \"\"\"\n",
    "    \n",
    "    m, n = X.shape\n",
    "    XX = np.zeros((2*m-1,2*n-1))\n",
    "    # fill X in every second pixel in XX\n",
    "    for i in range(m):\n",
    "        for j in range(n):\n",
    "            XX[2*i,2*j] = X[i,j]\n",
    "            \n",
    "    # then take the mean\n",
    "    for i in range(1, 2*m-1, 2):\n",
    "        XX[i,:] = (XX[i-1,:] + XX[i+1,:]) / 2.\n",
    "    for j in range(1, 2*n-1, 2):\n",
    "        XX[:,j] = (XX[:,j-1] + XX[:,j+1]) / 2.\n",
    "    return XX"
   ]
  },
  {
   "cell_type": "code",
   "execution_count": 107,
   "metadata": {
    "collapsed": true
   },
   "outputs": [],
   "source": [
    "def scaleSpace(showPlot=False):\n",
    "    \"\"\"Computes all scale spaces in all octaves.\"\"\"\n",
    "    # 1. load original image\n",
    "    origin = np.array(Image.open('house.jpg').convert('L'))\n",
    "    im_pre = ProcessImage(origin)\n",
    "    im_pre = ProcessImage(im_pre.gaussianBlur(0.5));    # initial blur at least sigma = 0.5\n",
    "#     im = ProcessImage(doubleImage(im_pre.imgArr))\n",
    "#     im.plot(\"Original\")\n",
    "#     plt.show()\n",
    "    \n",
    "    # 2. creating a list with all gaussian blur images with original resolution\n",
    "    scaleList = []\n",
    "    # octave 1: \\sigma --> k^4\\sigma\n",
    "    for i in range(ProcessImage.s):\n",
    "        newArr = im.gaussianBlur(ProcessImage.sigma * ProcessImage.k**i)\n",
    "        scaleList.append(ProcessImage(newArr))\n",
    "\n",
    "    # octave 2:  k^2\\sigma --> k^6*\\sigma, 1/2 size\n",
    "    # octave 3:  k^4\\sigma --> k^8*\\sigma, 1/4 size\n",
    "    # octave 4:  k^6\\sigma --> k^10*\\sigma, 1/8 size\n",
    "    factor = 4\n",
    "    for j in range(3):\n",
    "        for i in range(3):\n",
    "            scaleList.append(ProcessImage(scaleList[-3].halfSize()))       # the image to halfSize is always at index -3\n",
    "        for i in range(factor, factor+2):\n",
    "            newSig = ProcessImage.k**i * ProcessImage.constFactor * ProcessImage.sigma\n",
    "            newArr = scaleList[-1].gaussianBlur(newSig)\n",
    "            scaleList.append(ProcessImage(newArr))\n",
    "        factor += 2\n",
    "\n",
    "\n",
    "    # test for sizes\n",
    "    print([scaleList[j].getSize() for j in range(len(scaleList))])\n",
    "\n",
    "    # 3. plot all octaves\n",
    "    if showPlot == True:\n",
    "        axarr = np.zeros((ProcessImage.numOctave, ProcessImage.s))\n",
    "        for row in range(ProcessImage.numOctave):\n",
    "            fig, axarr = plt.subplots(1, ProcessImage.s, sharey=True)\n",
    "            plt.suptitle('Octave %d' % (row+1))\n",
    "            for col in range(len(scaleList[:ProcessImage.s])):\n",
    "                axarr[col].imshow(scaleList[row*ProcessImage.s+col].imgArr, cmap='Greys_r')\n",
    "                currSigma = ProcessImage.k ** (2*row+col) * ProcessImage.sigma\n",
    "                axarr[col].set_title('$\\sigma = %0.4f$' % currSigma)\n",
    "        plt.show()\n",
    "        \n",
    "    return scaleList"
   ]
  },
  {
   "cell_type": "code",
   "execution_count": null,
   "metadata": {
    "collapsed": true
   },
   "outputs": [],
   "source": [
    "def DoG_generator(scaleList):\n",
    "    DoG = []\n",
    "    \n",
    "    return DoG"
   ]
  },
  {
   "cell_type": "code",
   "execution_count": 117,
   "metadata": {
    "collapsed": true
   },
   "outputs": [],
   "source": [
    "def localExtremaDetection(scaleList):\n",
    "    \"\"\"Detect the local extrema of D(x,y,\\sigma).\"\"\"\n",
    "    extrema = []\n",
    "    for oc in range(ProcessImage.numOctave):\n",
    "#     for oc in range(1,2):\n",
    "        m, n = scaleList[oc*ProcessImage.s].imgArr.shape\n",
    "        for i in range(1,4):    # scale level number\n",
    "            for x in range(1,m):\n",
    "                for y in range(1,n):\n",
    "                    # for a given sample point, compare it with 26 neighbors\n",
    "                    flag = True\n",
    "                    neighbors = [scaleList[j+oc*ProcessImage.s].imgArr[x-1:x+2,y-1:y+2] for j in range(i-1,i+2)]\n",
    "                    neighbors = np.delete(neighbors, len(neighbors)/2)\n",
    "                    sign = np.sign(neighbors[0] - scaleList[i+oc*ProcessImage.s].imgArr[x,y])\n",
    "                    for j in range(1, len(neighbors)):\n",
    "                        if (np.sign(neighbors[j] - scaleList[i+oc*ProcessImage.s].imgArr[x,y]) != sign):\n",
    "                            flag = False\n",
    "                            break\n",
    "                    # if not break, (x,y) is an extrema\n",
    "                    if flag:\n",
    "                        extrema.append((2**oc*x, 2**oc*y))\n",
    "                \n",
    "    return extrema"
   ]
  },
  {
   "cell_type": "code",
   "execution_count": null,
   "metadata": {
    "collapsed": true
   },
   "outputs": [],
   "source": [
    "def main():\n",
    "    scaleList = scaleSpace(showPlot=False)\n",
    "    localExtremaDetection(scaleList)"
   ]
  },
  {
   "cell_type": "code",
   "execution_count": null,
   "metadata": {
    "collapsed": false
   },
   "outputs": [],
   "source": [
    "if __name__ == \"__main__\":\n",
    "    main()"
   ]
  },
  {
   "cell_type": "code",
   "execution_count": 109,
   "metadata": {
    "collapsed": false
   },
   "outputs": [
    {
     "name": "stdout",
     "output_type": "stream",
     "text": [
      "[(301L, 371L), (301L, 371L), (301L, 371L), (301L, 371L), (301L, 371L), (151L, 186L), (151L, 186L), (151L, 186L), (151L, 186L), (151L, 186L), (76L, 93L), (76L, 93L), (76L, 93L), (76L, 93L), (76L, 93L), (38L, 47L), (38L, 47L), (38L, 47L), (38L, 47L), (38L, 47L)]\n"
     ]
    }
   ],
   "source": [
    "scaleList = scaleSpace()"
   ]
  },
  {
   "cell_type": "code",
   "execution_count": 113,
   "metadata": {
    "collapsed": false
   },
   "outputs": [
    {
     "name": "stdout",
     "output_type": "stream",
     "text": [
      "8.49299893997\n"
     ]
    }
   ],
   "source": [
    "start = time.clock()\n",
    "ex = localExtremaDetection(scaleList)\n",
    "end = time.clock()\n",
    "print(end-start)"
   ]
  },
  {
   "cell_type": "code",
   "execution_count": 116,
   "metadata": {
    "collapsed": false
   },
   "outputs": [
    {
     "data": {
      "text/plain": [
       "array([], dtype=float64)"
      ]
     },
     "execution_count": 116,
     "metadata": {},
     "output_type": "execute_result"
    }
   ],
   "source": [
    "ex = np.asarray(ex)\n",
    "ex"
   ]
  },
  {
   "cell_type": "code",
   "execution_count": 100,
   "metadata": {
    "collapsed": false
   },
   "outputs": [
    {
     "ename": "IndexError",
     "evalue": "too many indices for array",
     "output_type": "error",
     "traceback": [
      "\u001b[1;31m---------------------------------------------------------------------------\u001b[0m",
      "\u001b[1;31mIndexError\u001b[0m                                Traceback (most recent call last)",
      "\u001b[1;32m<ipython-input-100-b3163cc99725>\u001b[0m in \u001b[0;36m<module>\u001b[1;34m()\u001b[0m\n\u001b[0;32m      5\u001b[0m \u001b[0mplt\u001b[0m\u001b[1;33m.\u001b[0m\u001b[0mimshow\u001b[0m\u001b[1;33m(\u001b[0m\u001b[0mim\u001b[0m\u001b[1;33m.\u001b[0m\u001b[0mimgArr\u001b[0m\u001b[1;33m,\u001b[0m \u001b[0mcmap\u001b[0m\u001b[1;33m=\u001b[0m\u001b[1;34m'Greys_r'\u001b[0m\u001b[1;33m)\u001b[0m\u001b[1;33m\u001b[0m\u001b[0m\n\u001b[0;32m      6\u001b[0m \u001b[1;33m\u001b[0m\u001b[0m\n\u001b[1;32m----> 7\u001b[1;33m \u001b[0mplt\u001b[0m\u001b[1;33m.\u001b[0m\u001b[0mplot\u001b[0m\u001b[1;33m(\u001b[0m\u001b[0mex\u001b[0m\u001b[1;33m[\u001b[0m\u001b[1;33m:\u001b[0m\u001b[1;33m,\u001b[0m\u001b[1;36m0\u001b[0m\u001b[1;33m]\u001b[0m\u001b[1;33m,\u001b[0m \u001b[0mex\u001b[0m\u001b[1;33m[\u001b[0m\u001b[1;33m:\u001b[0m\u001b[1;33m,\u001b[0m\u001b[1;36m1\u001b[0m\u001b[1;33m]\u001b[0m\u001b[1;33m,\u001b[0m\u001b[1;34m'b.'\u001b[0m\u001b[1;33m)\u001b[0m\u001b[1;33m\u001b[0m\u001b[0m\n\u001b[0m\u001b[0;32m      8\u001b[0m \u001b[0mplt\u001b[0m\u001b[1;33m.\u001b[0m\u001b[0mshow\u001b[0m\u001b[1;33m(\u001b[0m\u001b[1;33m)\u001b[0m\u001b[1;33m\u001b[0m\u001b[0m\n",
      "\u001b[1;31mIndexError\u001b[0m: too many indices for array"
     ]
    }
   ],
   "source": [
    "origin = np.array(Image.open('house.jpg').convert('L'))\n",
    "im_pre = ProcessImage(origin)\n",
    "im_pre = ProcessImage(im_pre.gaussianBlur(0.5));    # initial blur at least sigma = 0.5\n",
    "im = ProcessImage(doubleImage(im_pre.imgArr))\n",
    "plt.imshow(im.imgArr, cmap='Greys_r')\n",
    "\n",
    "plt.plot(ex[:,0], ex[:,1],'b.')\n",
    "plt.show()"
   ]
  },
  {
   "cell_type": "code",
   "execution_count": null,
   "metadata": {
    "collapsed": true
   },
   "outputs": [],
   "source": []
  }
 ],
 "metadata": {
  "kernelspec": {
   "display_name": "Python 2",
   "language": "python",
   "name": "python2"
  },
  "language_info": {
   "codemirror_mode": {
    "name": "ipython",
    "version": 2
   },
   "file_extension": ".py",
   "mimetype": "text/x-python",
   "name": "python",
   "nbconvert_exporter": "python",
   "pygments_lexer": "ipython2",
   "version": "2.7.9"
  }
 },
 "nbformat": 4,
 "nbformat_minor": 0
}
