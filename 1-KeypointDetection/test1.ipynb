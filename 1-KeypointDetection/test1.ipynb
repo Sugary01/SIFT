{
 "cells": [
  {
   "cell_type": "code",
   "execution_count": 21,
   "metadata": {
    "collapsed": true
   },
   "outputs": [],
   "source": [
    "import numpy as np"
   ]
  },
  {
   "cell_type": "code",
   "execution_count": 173,
   "metadata": {
    "collapsed": false
   },
   "outputs": [
    {
     "data": {
      "text/plain": [
       "numpy.ndarray"
      ]
     },
     "execution_count": 173,
     "metadata": {},
     "output_type": "execute_result"
    }
   ],
   "source": [
    "X = np.arange(12)\n",
    "X.resize((3,4))\n",
    "type(X)"
   ]
  },
  {
   "cell_type": "code",
   "execution_count": 171,
   "metadata": {
    "collapsed": true
   },
   "outputs": [],
   "source": [
    "def doubleImage(X):\n",
    "    \"\"\"Input: an image array. Use linear interpolation on all pixels.\"\"\"\n",
    "    m, n = X.shape\n",
    "    XX = np.zeros((2*m-1,2*n-1))\n",
    "    # fill X in every second pixel in XX\n",
    "    for i in range(m):\n",
    "        for j in range(n):\n",
    "            XX[2*i,2*j] = X[i,j]\n",
    "            \n",
    "    # then take the mean\n",
    "    for i in range(1, 2*m-1, 2):\n",
    "        XX[i,:] = (XX[i-1,:] + XX[i+1,:]) / 2.\n",
    "    for j in range(1, 2*n-1, 2):\n",
    "        XX[:,j] = (XX[:,j-1] + XX[:,j+1]) / 2.\n",
    "    return XX"
   ]
  },
  {
   "cell_type": "code",
   "execution_count": 172,
   "metadata": {
    "collapsed": false
   },
   "outputs": [
    {
     "name": "stdout",
     "output_type": "stream",
     "text": [
      "[[  0.    0.5   1.    1.5   2.    2.5   3. ]\n",
      " [  2.    2.5   3.    3.5   4.    4.5   5. ]\n",
      " [  4.    4.5   5.    5.5   6.    6.5   7. ]\n",
      " [  6.    6.5   7.    7.5   8.    8.5   9. ]\n",
      " [  8.    8.5   9.    9.5  10.   10.5  11. ]]\n"
     ]
    }
   ],
   "source": [
    "arr = doubleImage(X)\n",
    "print arr"
   ]
  },
  {
   "cell_type": "code",
   "execution_count": 198,
   "metadata": {
    "collapsed": false
   },
   "outputs": [
    {
     "data": {
      "text/plain": [
       "array([[ True,  True,  True],\n",
       "       [ True,  True,  True],\n",
       "       [False, False, False]], dtype=bool)"
      ]
     },
     "execution_count": 198,
     "metadata": {},
     "output_type": "execute_result"
    }
   ],
   "source": [
    "a = np.arange(9).reshape((3,3))\n",
    "np.sign(a-5.5) == np.sign(a[0,0]-5.5)"
   ]
  },
  {
   "cell_type": "code",
   "execution_count": 89,
   "metadata": {
    "collapsed": false
   },
   "outputs": [
    {
     "ename": "AttributeError",
     "evalue": "'numpy.ndarray' object has no attribute 'vstack'",
     "output_type": "error",
     "traceback": [
      "\u001b[1;31m---------------------------------------------------------------------------\u001b[0m",
      "\u001b[1;31mAttributeError\u001b[0m                            Traceback (most recent call last)",
      "\u001b[1;32m<ipython-input-89-2832990734a4>\u001b[0m in \u001b[0;36m<module>\u001b[1;34m()\u001b[0m\n\u001b[1;32m----> 1\u001b[1;33m \u001b[0mhelp\u001b[0m\u001b[1;33m(\u001b[0m\u001b[0mX\u001b[0m\u001b[1;33m.\u001b[0m\u001b[0mvstack\u001b[0m\u001b[1;33m)\u001b[0m\u001b[1;33m\u001b[0m\u001b[0m\n\u001b[0m",
      "\u001b[1;31mAttributeError\u001b[0m: 'numpy.ndarray' object has no attribute 'vstack'"
     ]
    }
   ],
   "source": [
    "help(X.vstack)"
   ]
  },
  {
   "cell_type": "code",
   "execution_count": 201,
   "metadata": {
    "collapsed": false
   },
   "outputs": [
    {
     "name": "stdout",
     "output_type": "stream",
     "text": [
      "yes\n"
     ]
    }
   ],
   "source": [
    "flag = True\n",
    "if flag:\n",
    "    print(\"yes\")"
   ]
  }
 ],
 "metadata": {
  "kernelspec": {
   "display_name": "Python 2",
   "language": "python",
   "name": "python2"
  },
  "language_info": {
   "codemirror_mode": {
    "name": "ipython",
    "version": 2
   },
   "file_extension": ".py",
   "mimetype": "text/x-python",
   "name": "python",
   "nbconvert_exporter": "python",
   "pygments_lexer": "ipython2",
   "version": "2.7.9"
  }
 },
 "nbformat": 4,
 "nbformat_minor": 0
}
