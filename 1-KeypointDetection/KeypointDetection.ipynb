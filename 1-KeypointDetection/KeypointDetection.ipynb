{
 "cells": [
  {
   "cell_type": "code",
   "execution_count": null,
   "metadata": {
    "collapsed": true
   },
   "outputs": [],
   "source": [
    "from PIL import Image\n",
    "import numpy as np\n",
    "from matplotlib import pyplot as plt\n",
    "from scipy.ndimage import filters\n",
    "import scipy.misc"
   ]
  },
  {
   "cell_type": "code",
   "execution_count": null,
   "metadata": {
    "collapsed": false
   },
   "outputs": [],
   "source": [
    "class ProcessImage:\n",
    "    \n",
    "    k = np.sqrt(2)  # Gaussian blur factor\n",
    "    constFactor = np.sqrt(k**2 - 1)\n",
    "    sigma = 1.6\n",
    "    s = 5           # number of images per octave\n",
    "    numOctave = 4   # number of octaves\n",
    "    \n",
    "    def __init__(self, arr):\n",
    "        \"\"\"Constructor: pass an array\"\"\"\n",
    "        self.imgArr = np.array(arr)\n",
    "        self.imgOrigin = np.array(arr)   # store a copy of original image\n",
    "    \n",
    "    def plot(self):\n",
    "        plt.imshow(self.imgArr, cmap='Greys_r')\n",
    "        plt.show()\n",
    "    \n",
    "    def saveIm(self, saveName):\n",
    "        self.imgOrigin.save(saveName)\n",
    "        \n",
    "    def getSize(self):\n",
    "        return self.imgArr.shape\n",
    "        \n",
    "    def gaussianBlur(self, sig):\n",
    "        # sig is the standard deviation of the gaussian kernel\n",
    "        return filters.gaussian_filter(self.imgArr, sig)\n",
    "\n",
    "    def halfSize(self):\n",
    "        \"\"\"Take every second pixels in both rows and columns.\"\"\"\n",
    "        return self.imgArr[::2, ::2]"
   ]
  },
  {
   "cell_type": "code",
   "execution_count": null,
   "metadata": {
    "collapsed": false
   },
   "outputs": [],
   "source": [
    "# load original image\n",
    "origin = np.array(Image.open('Coco.jpg').convert('L'))\n",
    "im = ProcessImage(origin)\n",
    "# im.plot()\n",
    "im.getSize()"
   ]
  },
  {
   "cell_type": "code",
   "execution_count": null,
   "metadata": {
    "collapsed": false
   },
   "outputs": [],
   "source": [
    "# creating a list with all gaussian blur images with original resolution\n",
    "scaleList = []\n",
    "# octave 1: \\sigma --> k^4\\sigma\n",
    "for i in range(ProcessImage.s):\n",
    "    newArr = im.gaussianBlur(ProcessImage.sigma * ProcessImage.k**i)\n",
    "    scaleList.append(ProcessImage(newArr))\n",
    "    \n",
    "# octave 2:  k^2\\sigma --> k^6*\\sigma, 1/2 size\n",
    "# octave 3:  k^4\\sigma --> k^8*\\sigma, 1/4 size\n",
    "# octave 4:  k^6\\sigma --> k^10*\\sigma, 1/8 size\n",
    "factor = 4\n",
    "for j in range(3):\n",
    "    for i in range(3):\n",
    "        scaleList.append(ProcessImage(scaleList[-3].halfSize()))       # the image to halfSize is always at index -3\n",
    "    for i in range(factor, factor+2):\n",
    "        newSig = ProcessImage.k**i * ProcessImage.constFactor * ProcessImage.sigma\n",
    "        newArr = scaleList[-1].gaussianBlur(newSig)\n",
    "        scaleList.append(ProcessImage(newArr))\n",
    "    factor += 2\n"
   ]
  },
  {
   "cell_type": "code",
   "execution_count": null,
   "metadata": {
    "collapsed": false
   },
   "outputs": [],
   "source": [
    "# test for sizes\n",
    "[scaleList[j].getSize() for j in range(len(scaleList))]"
   ]
  },
  {
   "cell_type": "code",
   "execution_count": null,
   "metadata": {
    "collapsed": false
   },
   "outputs": [],
   "source": [
    "# plot all octaves\n",
    "axarr = np.zeros((ProcessImage.numOctave, ProcessImage.s))\n",
    "for row in range(ProcessImage.numOctave):\n",
    "    fig, axarr = plt.subplots(1, ProcessImage.s, sharey=True)\n",
    "    plt.suptitle('Octave %d' % (row+1))\n",
    "    for col in range(len(scaleList[:ProcessImage.s])):\n",
    "        axarr[col].imshow(scaleList[row*ProcessImage.s+col].imgArr, cmap='Greys_r')\n",
    "        currSigma = ProcessImage.k ** (2*row+col) * ProcessImage.sigma\n",
    "        axarr[col].set_title('$\\sigma = %0.4f$' % currSigma)\n",
    "plt.show()"
   ]
  }
 ],
 "metadata": {
  "kernelspec": {
   "display_name": "Python 2",
   "language": "python",
   "name": "python2"
  },
  "language_info": {
   "codemirror_mode": {
    "name": "ipython",
    "version": 2
   },
   "file_extension": ".py",
   "mimetype": "text/x-python",
   "name": "python",
   "nbconvert_exporter": "python",
   "pygments_lexer": "ipython2",
   "version": "2.7.9"
  }
 },
 "nbformat": 4,
 "nbformat_minor": 0
}
