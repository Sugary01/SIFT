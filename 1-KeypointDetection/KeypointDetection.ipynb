{
 "cells": [
  {
   "cell_type": "code",
   "execution_count": null,
   "metadata": {
    "collapsed": true
   },
   "outputs": [],
   "source": [
    "from PIL import Image\n",
    "import numpy as np\n",
    "from matplotlib import pyplot as plt\n",
    "from scipy.ndimage import filters\n",
    "import scipy.misc"
   ]
  },
  {
   "cell_type": "code",
   "execution_count": null,
   "metadata": {
    "collapsed": true
   },
   "outputs": [],
   "source": [
    "def gaussianBlur(im, sig):\n",
    "    return filters.gaussian_filter(im, sig)\n",
    "\n",
    "def imResize(im, sz):\n",
    "    \"\"\"im: an numpy array, sz: array\"\"\"\n",
    "    pil_im = Image.fromarray(np.uint8(im))\n",
    "    return np.resize(im, sz)\n",
    "\n",
    "def halfSize(sz):\n",
    "    return np.divide(sz,2)"
   ]
  },
  {
   "cell_type": "code",
   "execution_count": null,
   "metadata": {
    "collapsed": false
   },
   "outputs": [],
   "source": [
    "# convert original image input into grayscale\n",
    "img_input = Image.open('Coco.jpg').convert(\"L\")\n",
    "plt.imshow(img_input, cmap='Greys_r')\n",
    "plt.show()"
   ]
  },
  {
   "cell_type": "code",
   "execution_count": null,
   "metadata": {
    "collapsed": false
   },
   "outputs": [],
   "source": [
    "# save the image\n",
    "# img_input.save('CocoGray.png')"
   ]
  },
  {
   "cell_type": "code",
   "execution_count": null,
   "metadata": {
    "collapsed": false
   },
   "outputs": [],
   "source": [
    "# convert image to a numpy array\n",
    "img_origin = np.array(img_input)\n",
    "img_size = img_origin.shape\n",
    "print img_size[0], img_size[1]"
   ]
  },
  {
   "cell_type": "code",
   "execution_count": null,
   "metadata": {
    "collapsed": false
   },
   "outputs": [],
   "source": [
    "# define the parameters\n",
    "\n",
    "k = np.sqrt(2)  # Gaussian blur factor\n",
    "sigma = 1.6\n",
    "s = 5           # number of images per octave\n",
    "sMax = 11\n",
    "numOctave = 4   # number of octaves"
   ]
  },
  {
   "cell_type": "code",
   "execution_count": null,
   "metadata": {
    "collapsed": false
   },
   "outputs": [],
   "source": [
    "blurs = np.zeros((img_origin.shape[0], img_origin.shape[1], 2*s + 1))\n",
    "# factors = sigma * k.^(0:10)\n",
    "factors = sigma * np.power(k,np.arange(sMax))\n",
    "print factors"
   ]
  },
  {
   "cell_type": "code",
   "execution_count": null,
   "metadata": {
    "collapsed": false
   },
   "outputs": [],
   "source": [
    "###############################################################\n",
    "# repeated Gaussian blur on original image\n",
    "for i in range(sMax):\n",
    "    blurs[:, :, i] = gaussianBlur(img_origin, factors[i])\n",
    "\n",
    "# plots\n",
    "f, axarr = plt.subplots(1, sMax, sharey=False)\n",
    "for i in range(sMax):\n",
    "    axarr[i].imshow(blurs[:,:,i], cmap='Greys_r')\n",
    "    axarr[i].set_title('$\\sigma = $%0.5f' % (factors[i]))\n",
    "plt.suptitle('Scales')\n",
    "plt.show()"
   ]
  },
  {
   "cell_type": "code",
   "execution_count": null,
   "metadata": {
    "collapsed": false
   },
   "outputs": [],
   "source": [
    "###############################################################\n",
    "# for each octave starting 2nd, half the size of the image before proceeding\n",
    "# scales = \n",
    "# octave2[:, :, 0] = imResize(octave1[:, :, 2], img_size)\n"
   ]
  },
  {
   "cell_type": "code",
   "execution_count": null,
   "metadata": {
    "collapsed": false
   },
   "outputs": [],
   "source": []
  }
 ],
 "metadata": {
  "kernelspec": {
   "display_name": "Python 2",
   "language": "python",
   "name": "python2"
  },
  "language_info": {
   "codemirror_mode": {
    "name": "ipython",
    "version": 2
   },
   "file_extension": ".py",
   "mimetype": "text/x-python",
   "name": "python",
   "nbconvert_exporter": "python",
   "pygments_lexer": "ipython2",
   "version": "2.7.9"
  }
 },
 "nbformat": 4,
 "nbformat_minor": 0
}
