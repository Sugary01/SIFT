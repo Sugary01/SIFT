{
 "cells": [
  {
   "cell_type": "code",
   "execution_count": 1,
   "metadata": {
    "collapsed": false
   },
   "outputs": [],
   "source": [
    "import os\n",
    "from PIL import Image\n",
    "import matplotlib.pyplot as plt\n",
    "import numpy as np"
   ]
  },
  {
   "cell_type": "code",
   "execution_count": 2,
   "metadata": {
    "collapsed": true
   },
   "outputs": [],
   "source": [
    "def process_image(imageName, resultName, params=\"--edge-thresh 10 --peak-thresh 5\"):\n",
    "    \"\"\" Process an image and save results in a file. \"\"\"\n",
    "    \n",
    "    if imageName[-3:] != 'pgm':\n",
    "        im = Image.open(imageName).convert('L')\n",
    "        im.save('tmp.pgm')\n",
    "        imageName = 'tmp.pgm'\n",
    "        \n",
    "    cmmd = str(\"sift \" + imageName + \" --output \" + resultName + \" \" + params)\n",
    "    os.system(cmmd)\n",
    "    print 'processed', imageName, 'to', resultName"
   ]
  },
  {
   "cell_type": "code",
   "execution_count": 3,
   "metadata": {
    "collapsed": false
   },
   "outputs": [],
   "source": [
    "def read_features_from_file(fileName):\n",
    "    \"\"\" Read features and return matrix form. \"\"\"\n",
    "    f = np.loadtxt(fileName)\n",
    "    \n",
    "    # return feature locations (first 4 components) and descriptors (last 128 components)\n",
    "    return f[:, :4], f[:, 4:]"
   ]
  },
  {
   "cell_type": "code",
   "execution_count": 4,
   "metadata": {
    "collapsed": true
   },
   "outputs": [],
   "source": [
    "def write_features_to_file(fileName, locs, desc):\n",
    "    \"\"\" Save feature location and descriptors to file. \"\"\"\n",
    "    np.savetxt(fileName, np.hstack((locs, desc)))"
   ]
  },
  {
   "cell_type": "code",
   "execution_count": 5,
   "metadata": {
    "collapsed": true
   },
   "outputs": [],
   "source": [
    "def plot_features(im, locs, circle=False):\n",
    "    def draw_circle(c, r):\n",
    "        t = np.arange(0, 1.01, 0.01) * 2 * np.pi\n",
    "        x = r * np.cos(t) + c[0]\n",
    "        y = r * np.sin(t) + c[1]\n",
    "        plt.plot(x,y,'b',linewidth=2)\n",
    "    \n",
    "    plt.imshow(im)\n",
    "    if circle:\n",
    "        for p in locs:\n",
    "            draw_circle(p[:2], p[2])\n",
    "    else:\n",
    "        plot(locs[:,0], locs[:,1], 'bo')\n",
    "    plt.axis('off')"
   ]
  },
  {
   "cell_type": "code",
   "execution_count": 6,
   "metadata": {
    "collapsed": false
   },
   "outputs": [],
   "source": [
    "def match(desc1, desc2):\n",
    "    \"\"\" For each descriptor in the first image, select its\n",
    "        match in the second image. \n",
    "        Inputs are descriptors of 2 images. \"\"\"\n",
    "    \n",
    "    # normalize\n",
    "    desc1 = np.array([d/np.linalg.norm(d) for d in desc1])\n",
    "    desc2 = np.array([d/np.linalg.norm(d) for d in desc2])\n",
    "    \n",
    "    dist_ratio = 0.6\n",
    "    desc1_size = desc1.shape\n",
    "    \n",
    "    matchScores = np.zeros((desc1_size[0], 1), 'int')\n",
    "    desc2t = desc2.T\n",
    "    \n",
    "    for i in range(desc1_size[0]):\n",
    "        dotprods = np.dot(desc1[i, :], desc2t)\n",
    "        dotprods = 0.9999 * dotprods\n",
    "        ind = np.argsort(np.arccos(dotprods))\n",
    "        \n",
    "        if np.arccos(dotprods)[ind[0]] < dist_ratio * np.arccos(dotprods)[ind[1]]:\n",
    "            matchScores[i] = int(ind[0])\n",
    "    \n",
    "    return matchScores\n",
    "    "
   ]
  },
  {
   "cell_type": "code",
   "execution_count": 7,
   "metadata": {
    "collapsed": true
   },
   "outputs": [],
   "source": [
    "def match_twosided(desc1, desc2):\n",
    "    \"\"\" Two sided symmetric version of match(). \"\"\"\n",
    "    \n",
    "    match_12 = match(desc1, desc2)\n",
    "    match_21 = match(desc2, desc1)\n",
    "    \n",
    "    # nonzero()[0] returns the indices of nonzero entries \n",
    "    idx_12 = match_12.nonzero()[0]\n",
    "    \n",
    "    # remove matches that are asymmetric\n",
    "    for n in idx_12:\n",
    "        if match_21[int(match_12[n])] != n:\n",
    "            match_12[n] = 0\n",
    "            \n",
    "    return match_12\n",
    "    "
   ]
  },
  {
   "cell_type": "code",
   "execution_count": 8,
   "metadata": {
    "collapsed": false
   },
   "outputs": [],
   "source": [
    "def appendImages(im1, im2):\n",
    "    \"\"\" Return a new image that appends two images side-by-side. \"\"\"\n",
    "    \n",
    "    # fill with zeros for image with smaller row size\n",
    "    r1 = im1.shape[0]\n",
    "    r2 = im2.shape[0]\n",
    "    if r1 < r2:\n",
    "        im1 = np.concatenate((im1, np.zeros(r2-r1, im1.shape[1])), axis=0)  # concatenate vertically\n",
    "    elif r1 > r2:\n",
    "        im2 = np.concatenate((im2, np.zeros(r1-r2, im2.shape[1])), axis=0)\n",
    "        \n",
    "    return np.concatenate((im1, im2), axis=1)    # now concatenate side-by-side"
   ]
  },
  {
   "cell_type": "code",
   "execution_count": 9,
   "metadata": {
    "collapsed": true
   },
   "outputs": [],
   "source": [
    "def plot_matches(im1, im2, loc1, loc2, matchScores, show_below=True):\n",
    "    \"\"\" Join matches in the plot. \"\"\"\n",
    "    \n",
    "    im3 = appendImages(im1, im2)\n",
    "    if show_below:\n",
    "        im3 = np.vstack((im3, im3))\n",
    "        \n",
    "    plt.imshow(im3)\n",
    "    \n",
    "    # join matched points, need to add the column number of im1 to im2\n",
    "    cols1 = im1.shape[1]\n",
    "    for i, m in enumerate(matchScores):\n",
    "        if m > 0:\n",
    "            m = m[0]    # originally, m = [some number]\n",
    "            plt.plot([loc1[i][0], loc2[m][0]+cols1], [loc1[i][1], loc2[m][1]], 'c')\n",
    "            \n",
    "    plt.axis('off')\n",
    "    "
   ]
  },
  {
   "cell_type": "code",
   "execution_count": 10,
   "metadata": {
    "collapsed": false
   },
   "outputs": [
    {
     "name": "stdout",
     "output_type": "stream",
     "text": [
      "processed tmp.pgm to liberty1.sift\n",
      "processed tmp.pgm to liberty2.sift\n"
     ]
    }
   ],
   "source": [
    "# imName1 = 'liberty1.jpg'\n",
    "# imName2 = 'liberty2.jpg'\n",
    "# im1 = np.array(Image.open(imName1).convert('L'))\n",
    "# im2 = np.array(Image.open(imName2).convert('L'))\n",
    "# process_image(imName1, 'liberty1.sift')\n",
    "# process_image(imName2, 'liberty2.sift')\n",
    "# loc1, desc1 = read_features_from_file('liberty1.sift')\n",
    "# loc2, desc2 = read_features_from_file('liberty2.sift')"
   ]
  },
  {
   "cell_type": "code",
   "execution_count": 11,
   "metadata": {
    "collapsed": false
   },
   "outputs": [],
   "source": [
    "# score_12 = match_twosided(desc1, desc2)"
   ]
  },
  {
   "cell_type": "code",
   "execution_count": 12,
   "metadata": {
    "collapsed": false
   },
   "outputs": [],
   "source": [
    "# # newIm = appendImages(im1, im2)\n",
    "# plot_matches(im1, im2, loc1, loc2, score_12, show_below=False)\n",
    "# plt.gray()\n",
    "# plt.show()"
   ]
  },
  {
   "cell_type": "code",
   "execution_count": null,
   "metadata": {
    "collapsed": true
   },
   "outputs": [],
   "source": []
  }
 ],
 "metadata": {
  "celltoolbar": "Raw Cell Format",
  "kernelspec": {
   "display_name": "Python 2",
   "language": "python",
   "name": "python2"
  },
  "language_info": {
   "codemirror_mode": {
    "name": "ipython",
    "version": 2
   },
   "file_extension": ".py",
   "mimetype": "text/x-python",
   "name": "python",
   "nbconvert_exporter": "python",
   "pygments_lexer": "ipython2",
   "version": "2.7.9"
  }
 },
 "nbformat": 4,
 "nbformat_minor": 0
}
