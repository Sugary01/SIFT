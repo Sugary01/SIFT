{
 "cells": [
  {
   "cell_type": "code",
   "execution_count": 8,
   "metadata": {
    "collapsed": false
   },
   "outputs": [],
   "source": [
    "# Basics of computer vision\n",
    "from PIL import Image\n",
    "import matplotlib.pyplot as plt\n",
    "import numpy as np"
   ]
  },
  {
   "cell_type": "code",
   "execution_count": null,
   "metadata": {
    "collapsed": false
   },
   "outputs": [],
   "source": [
    "# load image\n",
    "cat = np.array(Image.open('cat.jpg'))\n",
    "dog = np.array(Image.open('husky.jpg'))\n",
    "# print cat.shape, cat.dtype"
   ]
  },
  {
   "cell_type": "code",
   "execution_count": null,
   "metadata": {
    "collapsed": true
   },
   "outputs": [],
   "source": [
    "# show image\n",
    "plt.figure()\n",
    "plt.imshow(dog)\n",
    "plt.show()"
   ]
  },
  {
   "cell_type": "code",
   "execution_count": null,
   "metadata": {
    "collapsed": false
   },
   "outputs": [],
   "source": [
    "# User annotation\n",
    "plt.imshow(cat)\n",
    "print('please click 3 points')\n",
    "x = plt.ginput(3)\n",
    "print('you clicked: %s' % x)\n",
    "plt.show()"
   ]
  },
  {
   "cell_type": "code",
   "execution_count": 9,
   "metadata": {
    "collapsed": false
   },
   "outputs": [],
   "source": [
    "# graylevel transforms\n",
    "im = np.asarray(Image.open('husky.jpg').convert('L'))"
   ]
  },
  {
   "cell_type": "code",
   "execution_count": 10,
   "metadata": {
    "collapsed": false
   },
   "outputs": [
    {
     "name": "stdout",
     "output_type": "stream",
     "text": [
      "(0, 255)\n",
      "(0, 255)\n",
      "(100, 200)\n",
      "(0, 255)\n"
     ]
    }
   ],
   "source": [
    "# use of plt.subplots\n",
    "im1 = 255 - im  # invert image\n",
    "im2 = (100./255) * im + 100  # clamp to interval 100--200\n",
    "im3 = 255. * (im/255.) ** 2  # squared\n",
    "\n",
    "f, ((ax1, ax2), (ax3, ax4)) = plt.subplots(2, 2, sharex=False, sharey=False)\n",
    "ax1.imshow(im1)\n",
    "ax2.imshow(im2)\n",
    "ax3.imshow(im3)\n",
    "ax4.imshow(dog)\n",
    "plt.show()\n",
    "\n",
    "for i in [im, im1, im2, im3]:\n",
    "    print(int(i.min()), int(i.max()))"
   ]
  },
  {
   "cell_type": "code",
   "execution_count": 11,
   "metadata": {
    "collapsed": false
   },
   "outputs": [],
   "source": [
    "# contour plots\n",
    "# first convert to grayscale (only 2-dim accepted for plt.contour)\n",
    "dog_grayscale = np.asarray(Image.open('husky.jpg').convert('L'))\n",
    "plt.contour(dog_grayscale, origin = 'image')\n",
    "plt.axis('equal')\n",
    "plt.axis('off')\n",
    "plt.show()"
   ]
  },
  {
   "cell_type": "code",
   "execution_count": null,
   "metadata": {
    "collapsed": false
   },
   "outputs": [],
   "source": [
    "# histogram\n",
    "plt.figure()\n",
    "plt.hist(dog_grayscale.flatten(), 128)\n",
    "plt.show()"
   ]
  },
  {
   "cell_type": "code",
   "execution_count": null,
   "metadata": {
    "collapsed": false
   },
   "outputs": [],
   "source": [
    "# reverse of array()\n",
    "pil_im = Image.fromarray(im)"
   ]
  },
  {
   "cell_type": "code",
   "execution_count": null,
   "metadata": {
    "collapsed": true
   },
   "outputs": [],
   "source": [
    "# averaging images\n",
    "def computeAverage(imList):\n",
    "    avgIm = np.array(Image.open(imList[0]), 'f')\n",
    "    \n",
    "    for imName in imList[1:]:\n",
    "        try:\n",
    "            avgIm += np.array(Image.open(imName))\n",
    "        except:\n",
    "            print(imname + '...skipped')\n",
    "    avgIm /= len(imList)\n",
    "    \n",
    "    return np.array(avgIm, 'uint8')"
   ]
  },
  {
   "cell_type": "code",
   "execution_count": null,
   "metadata": {
    "collapsed": true
   },
   "outputs": [],
   "source": []
  },
  {
   "cell_type": "code",
   "execution_count": null,
   "metadata": {
    "collapsed": true
   },
   "outputs": [],
   "source": [
    "from scipy.ndimage import filters"
   ]
  },
  {
   "cell_type": "code",
   "execution_count": null,
   "metadata": {
    "collapsed": false
   },
   "outputs": [],
   "source": [
    "# blurring images with Gaussian kernel\n",
    "\n",
    "# (1) on grayscale image\n",
    "dogBlur1 = filters.gaussian_filter(dog_grayscale, 10)  # standard deviation (sigma) is the second argument\n",
    "\n",
    "# (2) on color image: apply Gaussian blurring on each of RGB channel\n",
    "dogBlur2 = np.zeros(dog.shape)  # 3-d array, with last element color channel\n",
    "for i in range(3):\n",
    "    dogBlur2[:,:,i] = filters.gaussian_filter(dog[:,:,i], 4)\n",
    "dogBlur2 = np.uint8(dogBlur2)\n",
    "\n",
    "f, (ax1, ax2) = plt.subplots(1, 2)\n",
    "ax1.imshow(dogBlur1)\n",
    "ax2.imshow(dogBlur2)\n",
    "plt.show()"
   ]
  },
  {
   "cell_type": "code",
   "execution_count": null,
   "metadata": {
    "collapsed": false
   },
   "outputs": [],
   "source": []
  },
  {
   "cell_type": "code",
   "execution_count": null,
   "metadata": {
    "collapsed": false
   },
   "outputs": [],
   "source": [
    "# image derivatives on grayscale\n",
    "\n",
    "# Sobel deriative filters\n",
    "# second argument choosing direction, third argument storing output\n",
    "imx = np.zeros(dog_grayscale.shape)\n",
    "filters.sobel(dog_grayscale, 1, imx)\n",
    "\n",
    "imy = np.zeros(dog_grayscale.shape)\n",
    "filters.sobel(dog_grayscale, 0, imy)\n",
    "\n",
    "magnitude = np.hypot(imx, imy)\n",
    "\n",
    "f, ((ax1, ax2), (ax3, ax4)) = plt.subplots(2, 2)\n",
    "ax1.imshow(imx)\n",
    "ax1.set_title('x-derivative')\n",
    "ax2.imshow(imy)\n",
    "ax2.set_title('y-derivative')\n",
    "ax3.imshow(magnitude)\n",
    "ax3.set_title('gradient magnitude')\n",
    "ax4.imshow(dog_grayscale)\n",
    "ax4.set_title('original')\n",
    "plt.show()"
   ]
  },
  {
   "cell_type": "code",
   "execution_count": null,
   "metadata": {
    "collapsed": false
   },
   "outputs": [],
   "source": [
    "# morphology -- counting objects (for binary images)\n",
    "from scipy.ndimage import measurements, morphology\n",
    "\n",
    "balls = np.array(Image.open('balls.jpg').convert('L'))\n",
    "balls2 = 1*(balls<128)\n",
    "plt.imshow(balls2)\n",
    "plt.show()\n",
    "labels, num_objects = measurements.label(balls2)\n",
    "print(\"Number of objects: %d\" % num_objects)"
   ]
  },
  {
   "cell_type": "code",
   "execution_count": null,
   "metadata": {
    "collapsed": false
   },
   "outputs": [],
   "source": [
    "# saving an image\n",
    "import scipy.misc\n",
    "scipy.misc.imsave('dogBlur.jpg', dogBlur2)\n",
    "#\n",
    "lena = scipy.misc.face()\n",
    "plt.imshow(lena)\n",
    "plt.show()"
   ]
  },
  {
   "cell_type": "code",
   "execution_count": null,
   "metadata": {
    "collapsed": true
   },
   "outputs": [],
   "source": []
  }
 ],
 "metadata": {
  "kernelspec": {
   "display_name": "Python 2",
   "language": "python",
   "name": "python2"
  },
  "language_info": {
   "codemirror_mode": {
    "name": "ipython",
    "version": 2
   },
   "file_extension": ".py",
   "mimetype": "text/x-python",
   "name": "python",
   "nbconvert_exporter": "python",
   "pygments_lexer": "ipython2",
   "version": "2.7.9"
  }
 },
 "nbformat": 4,
 "nbformat_minor": 0
}
